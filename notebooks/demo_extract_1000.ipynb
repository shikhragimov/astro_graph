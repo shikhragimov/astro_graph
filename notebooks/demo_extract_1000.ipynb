{
 "cells": [
  {
   "cell_type": "code",
   "execution_count": null,
   "id": "eff2c728-c976-4f04-b3c9-e1ef33594df8",
   "metadata": {},
   "outputs": [],
   "source": [
    "import logging\n",
    "import sys\n",
    "from tqdm import tqdm\n",
    "\n",
    "import pandas as pd\n",
    "from astroquery import log\n",
    "from astropy.table import vstack\n",
    "from astropy import units as u\n",
    "\n",
    "sys.path.append(\"../\") # for importing from src \n",
    "\n",
    "from src.data.data_loading import get_query_pagination_like, simple_sequence_query_run\n",
    "log_level = \"WARNING\"\n",
    "\n",
    "log.setLevel(log_level)\n",
    "logging.basicConfig(level=log_level)"
   ]
  },
  {
   "cell_type": "code",
   "execution_count": null,
   "id": "d0033120-5c3a-4cd3-b457-a7a3c4b045ab",
   "metadata": {
    "tags": []
   },
   "outputs": [],
   "source": [
    "columns = [\"source_id\", \"ra\", \"dec\", 'distance_gspphot', 'radial_velocity']\n",
    "limit = 1000\n",
    "query = get_query_pagination_like(columns, limit)\n",
    "\n",
    "results = simple_sequence_query_run(query) \n",
    "last_id = results[\"source_id\"][-1]\n",
    "for i in tqdm(range(0,3)):\n",
    "    query = get_query_pagination_like(columns, limit, begin_id=last_id)\n",
    "    res = simple_sequence_query_run(query) \n",
    "    last_id = res[\"source_id\"][-1]\n",
    "    results = vstack([results, res])"
   ]
  },
  {
   "cell_type": "code",
   "execution_count": null,
   "id": "09e68165-6e1a-4d6e-8439-c4d30db21d06",
   "metadata": {
    "tags": []
   },
   "outputs": [],
   "source": [
    "results.info()"
   ]
  },
  {
   "cell_type": "code",
   "execution_count": null,
   "id": "1c213015-38ae-4650-9091-1b7b2bcf2293",
   "metadata": {
    "tags": []
   },
   "outputs": [],
   "source": [
    "results['distance_lightyear'] = results['distance_gspphot'].to(u.lightyear)\n",
    "results['radial_velocity_ms'] = results['radial_velocity'].to(u.meter/u.second)"
   ]
  },
  {
   "cell_type": "code",
   "execution_count": null,
   "id": "b2a95221-60ab-440c-917a-1fcbab8cfe1d",
   "metadata": {},
   "outputs": [],
   "source": [
    "results.to_pandas().info()"
   ]
  }
 ],
 "metadata": {
  "kernelspec": {
   "display_name": "astro_graph",
   "language": "python",
   "name": "astro_graph"
  },
  "language_info": {
   "codemirror_mode": {
    "name": "ipython",
    "version": 3
   },
   "file_extension": ".py",
   "mimetype": "text/x-python",
   "name": "python",
   "nbconvert_exporter": "python",
   "pygments_lexer": "ipython3",
   "version": "3.10.0"
  }
 },
 "nbformat": 4,
 "nbformat_minor": 5
}
